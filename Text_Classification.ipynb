{
  "nbformat": 4,
  "nbformat_minor": 0,
  "metadata": {
    "kernelspec": {
      "display_name": "Python 3",
      "language": "python",
      "name": "python3"
    },
    "language_info": {
      "codemirror_mode": {
        "name": "ipython",
        "version": 3
      },
      "file_extension": ".py",
      "mimetype": "text/x-python",
      "name": "python",
      "nbconvert_exporter": "python",
      "pygments_lexer": "ipython3",
      "version": "3.6.10"
    },
    "colab": {
      "name": "Untitled7.ipynb",
      "provenance": [],
      "include_colab_link": true
    },
    "accelerator": "TPU"
  },
  "cells": [
    {
      "cell_type": "markdown",
      "metadata": {
        "id": "view-in-github",
        "colab_type": "text"
      },
      "source": [
        "<a href=\"https://colab.research.google.com/github/Devansh-S/Multiclass_text_classification/blob/master/Text_Classification.ipynb\" target=\"_parent\"><img src=\"https://colab.research.google.com/assets/colab-badge.svg\" alt=\"Open In Colab\"/></a>"
      ]
    },
    {
      "cell_type": "code",
      "metadata": {
        "id": "Ivx58VXRPZPp",
        "colab_type": "code",
        "colab": {}
      },
      "source": [
        "from sklearn.preprocessing import LabelEncoder\n",
        "import numpy as np, pandas as pd\n",
        "import matplotlib.pyplot as plt\n",
        "%matplotlib inline\n",
        "from keras.preprocessing.text import Tokenizer\n",
        "from keras.preprocessing.sequence import pad_sequences\n",
        "from keras.layers import Dense,Input,LSTM,Embedding,Dropout,Activation\n",
        "from keras import initializers, regularizers, constraints , optimizers, layers\n",
        "from nltk.corpus import stopwords \n",
        "import nltk\n",
        "import string\n",
        "from nltk.tokenize.treebank import TreebankWordDetokenizer\n",
        "nltk.download('stopwords')\n",
        "nltk.download('punkt')"
      ],
      "execution_count": 0,
      "outputs": []
    },
    {
      "cell_type": "code",
      "metadata": {
        "id": "VC7B1-66Skpv",
        "colab_type": "code",
        "colab": {}
      },
      "source": [
        "df = pd.read_csv('train.csv')\n",
        "df1 = pd.read_csv('test.csv')"
      ],
      "execution_count": 0,
      "outputs": []
    },
    {
      "cell_type": "code",
      "metadata": {
        "id": "4d0HNZmMPZPs",
        "colab_type": "code",
        "colab": {}
      },
      "source": [
        "def preprocess(df):\n",
        "    text = df['review_description'].copy()\n",
        "    for i in range(0,len(df)):\n",
        "        if i%10000 == 0:\n",
        "            print('Processed records : ',i)\n",
        "        text[i] = (str(df.iloc[i]['country']).replace(\" \", \"\") + ' ' + \n",
        "                str(df.iloc[i]['winery']).replace(\" \", \"\") + ' ' + \n",
        "                str(df.iloc[i]['province']).replace(\" \", \"\") + ' ' + \n",
        "                str(df.iloc[i]['region_1']).replace(\" \", \"\") + ' ' + \n",
        "                str(df.iloc[i]['region_2']).replace(\" \", \"\") + ' ' + \n",
        "                str(df.iloc[i]['designation']).replace(\" \", \"\") + ' ' + \n",
        "                str(df.iloc[i]['review_description'])) \n",
        "    return text"
      ],
      "execution_count": 0,
      "outputs": []
    },
    {
      "cell_type": "code",
      "metadata": {
        "id": "v5-s2nb8nO-u",
        "colab_type": "code",
        "colab": {}
      },
      "source": [
        "def Token_filter(text1):\n",
        "  punctuation = [w for w in string.punctuation]\n",
        "  stop_words = list(set(stopwords.words('english')))\n",
        "  stops = stop_words + punctuation\n",
        "  porter = PorterStemmer()\n",
        "  filtered = text1\n",
        "\n",
        "  for i in range(len(text1)):\n",
        "    if i%10000 == 0:\n",
        "      print('Processed records : ',i)\n",
        "    tokenized_text = word_tokenize(text1[i])\n",
        "    tokens = [w.lower() for w in tokenized_text]\n",
        "    final = [w for w in tokens if not w in stops] \n",
        "    filtered[i] = final\n",
        "  return filtered"
      ],
      "execution_count": 0,
      "outputs": []
    },
    {
      "cell_type": "code",
      "metadata": {
        "id": "2hWd_pex0yQW",
        "colab_type": "code",
        "colab": {}
      },
      "source": [
        "def detokenize(text):\n",
        "  for i in range(len(text)):\n",
        "    text[i] = TreebankWordDetokenizer().detokenize(text[i])\n",
        "  return text"
      ],
      "execution_count": 0,
      "outputs": []
    },
    {
      "cell_type": "code",
      "metadata": {
        "id": "9uSzUWtaPZPx",
        "colab_type": "code",
        "colab": {}
      },
      "source": [
        "def prepare_labels(df):\n",
        "  labels = df['variety']\n",
        "  le = LabelEncoder()\n",
        "  ll = le.fit_transform(labels)\n",
        "  target = np_utils.to_categorical(ll)\n",
        "  return target"
      ],
      "execution_count": 0,
      "outputs": []
    },
    {
      "cell_type": "code",
      "metadata": {
        "id": "NW4SrSKvSCpP",
        "colab_type": "code",
        "colab": {}
      },
      "source": [
        "text = preprocess(df.copy())"
      ],
      "execution_count": 0,
      "outputs": []
    },
    {
      "cell_type": "code",
      "metadata": {
        "id": "ujAvC_ER9FtV",
        "colab_type": "code",
        "colab": {}
      },
      "source": [
        "filtered_text = Token_filter(text.copy())"
      ],
      "execution_count": 0,
      "outputs": []
    },
    {
      "cell_type": "code",
      "metadata": {
        "id": "zWdwk2RE0yKy",
        "colab_type": "code",
        "colab": {}
      },
      "source": [
        "filtered_text[0]"
      ],
      "execution_count": 0,
      "outputs": []
    },
    {
      "cell_type": "code",
      "metadata": {
        "id": "ye7qUk6DEt2-",
        "colab_type": "code",
        "colab": {}
      },
      "source": [
        "filtered_text = detokenize(filtered_text.copy())"
      ],
      "execution_count": 0,
      "outputs": []
    },
    {
      "cell_type": "code",
      "metadata": {
        "id": "RsKgLsQkv05U",
        "colab_type": "code",
        "colab": {}
      },
      "source": [
        "max_len = 96\n",
        "max_feat = 20000\n",
        "tokenizer = Tokenizer(num_words=max_feat)\n",
        "tokenizer.fit_on_texts(filtered_text)\n",
        "sequence_train = tokenizer.texts_to_sequences(filtered_text)\n",
        "data = pad_sequences(sequence_train,maxlen=max_len)\n",
        "len_words = [len(words) for words in sequence_train]\n",
        "print(max(len_words))\n",
        "plt.hist(len_words, bins = np.arange(0,400,10))\n",
        "plt.show()"
      ],
      "execution_count": 0,
      "outputs": []
    },
    {
      "cell_type": "code",
      "metadata": {
        "id": "2QfQkOcmR2W1",
        "colab_type": "code",
        "colab": {}
      },
      "source": [
        "target = prepare_labels(df)"
      ],
      "execution_count": 0,
      "outputs": []
    },
    {
      "cell_type": "code",
      "metadata": {
        "id": "QpUXobmwW8hq",
        "colab_type": "code",
        "colab": {}
      },
      "source": [
        "from sklearn.model_selection import train_test_split\n",
        "x_train,x_test,y_train,y_test = train_test_split(data, target , test_size = 0.05, random_state=0)"
      ],
      "execution_count": 0,
      "outputs": []
    },
    {
      "cell_type": "code",
      "metadata": {
        "id": "cwg_Lt_SPZP4",
        "colab_type": "code",
        "outputId": "96092cc2-3f54-44c2-c960-656a679bcefb",
        "colab": {
          "base_uri": "https://localhost:8080/",
          "height": 221
        }
      },
      "source": [
        "print(x_train.shape)\n",
        "print(y_train.shape)\n",
        "print(x_test.shape)\n",
        "print(y_test.shape)"
      ],
      "execution_count": 0,
      "outputs": [
        {
          "output_type": "stream",
          "text": [
            "(78524, 96)\n",
            "(78524, 28)\n",
            "(4133, 96)\n",
            "(4133, 28)\n",
            "[    0     0     0     0     0     0     0     0     0     0     0     0\n",
            "     0     0     0     0     0     0     0     0     0     0     0     0\n",
            "     0     0     0     0     0     0     0     0     0     0     0     0\n",
            "     0     0     0     0     0     0     0     0     0     0     0     0\n",
            "     0     0     0     0     0     0     0     0     0     0     0     0\n",
            "     0     0     0     0     0     0     0     0     0     0     0     0\n",
            "     0    27 10017   195   531     1 16136   135   517    43  2072   189\n",
            "     8    15     5   128  1204   243    64   192   104  8583   346    11]\n"
          ],
          "name": "stdout"
        }
      ]
    },
    {
      "cell_type": "code",
      "metadata": {
        "id": "wbOuX5vWqVQ8",
        "colab_type": "code",
        "colab": {}
      },
      "source": [
        "model = Sequential()\n",
        "model.add(Embedding(20000, 96, input_length=96))\n",
        "model.add(SpatialDropout1D(0.2))\n",
        "model.add(LSTM(100, dropout=0.2, recurrent_dropout=0.2))\n",
        "model.add(Dense(100, activation='sigmoid'))\n",
        "model.add(Dense(28, activation='softmax'))\n"
      ],
      "execution_count": 0,
      "outputs": []
    },
    {
      "cell_type": "code",
      "metadata": {
        "id": "2cv2jyPQPZQC",
        "colab_type": "code",
        "outputId": "d0178e2c-6c36-4a9a-ef78-091e84d604d0",
        "colab": {
          "base_uri": "https://localhost:8080/",
          "height": 323
        }
      },
      "source": [
        "model.compile(loss = 'categorical_crossentropy',\n",
        "             optimizer = \"adam\",\n",
        "             metrics = ['accuracy'])\n",
        "model.summary()"
      ],
      "execution_count": 0,
      "outputs": [
        {
          "output_type": "stream",
          "text": [
            "Model: \"sequential_2\"\n",
            "_________________________________________________________________\n",
            "Layer (type)                 Output Shape              Param #   \n",
            "=================================================================\n",
            "embedding_2 (Embedding)      (None, 96, 96)            1920000   \n",
            "_________________________________________________________________\n",
            "spatial_dropout1d_2 (Spatial (None, 96, 96)            0         \n",
            "_________________________________________________________________\n",
            "lstm_2 (LSTM)                (None, 100)               78800     \n",
            "_________________________________________________________________\n",
            "dense_3 (Dense)              (None, 100)               10100     \n",
            "_________________________________________________________________\n",
            "dense_4 (Dense)              (None, 28)                2828      \n",
            "=================================================================\n",
            "Total params: 2,011,728\n",
            "Trainable params: 2,011,728\n",
            "Non-trainable params: 0\n",
            "_________________________________________________________________\n"
          ],
          "name": "stdout"
        }
      ]
    },
    {
      "cell_type": "code",
      "metadata": {
        "id": "2bWouynFPZQG",
        "colab_type": "code",
        "colab": {}
      },
      "source": [
        "batch_size = 16\n",
        "epochs = 5\n",
        "model.fit(x_train, y_train, batch_size=batch_size, epochs=epochs, validation_split = 0.10)"
      ],
      "execution_count": 0,
      "outputs": []
    },
    {
      "cell_type": "code",
      "metadata": {
        "id": "cnAxkFYVnncQ",
        "colab_type": "code",
        "colab": {}
      },
      "source": [
        "model.save('model.h5')"
      ],
      "execution_count": 0,
      "outputs": []
    },
    {
      "cell_type": "code",
      "metadata": {
        "id": "INLuibhMQ4Do",
        "colab_type": "code",
        "colab": {}
      },
      "source": [
        "model.evaluate(x_test,y_test)"
      ],
      "execution_count": 0,
      "outputs": []
    },
    {
      "cell_type": "code",
      "metadata": {
        "id": "KStbHCM3Rrs0",
        "colab_type": "code",
        "colab": {}
      },
      "source": [
        "from sklearn.metrics import accuracy_score\n",
        "print(\"Accuracy: \" + str(round(accuracy_score(class_result,p)*100,4) )+\"%\")        \n"
      ],
      "execution_count": 0,
      "outputs": []
    }
  ]
}